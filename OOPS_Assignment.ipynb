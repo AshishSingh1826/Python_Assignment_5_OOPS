{
 "cells": [
  {
   "cell_type": "code",
   "execution_count": 2,
   "id": "839cc1d4-2471-4a0f-9fa7-d9c02ed9ec8a",
   "metadata": {},
   "outputs": [],
   "source": [
    "# 1. What are the five key concepts of Object-Oriented Programming (OOP)?"
   ]
  },
  {
   "cell_type": "code",
   "execution_count": 4,
   "id": "06b0ac51-f98c-48f2-bb3a-ad0dc10de7cb",
   "metadata": {},
   "outputs": [],
   "source": [
    "# The five key concepts of Object-Oriented Programming (OOP) are:\n",
    "\n",
    "# Encapsulation: This refers to the bundling of data and methods (functions) that operate on that data into a single unit, called an object. \n",
    "# Encapsulation helps to protect data from accidental or unauthorized access.\n",
    "\n",
    "# Inheritance: This allows new classes (called subclasses) to be created based on existing classes (called superclasses). Subclasses inherit the \n",
    "# properties and methods of their superclasses, but can also have their own unique properties and methods.\n",
    "\n",
    "# Polymorphism: This means that objects of different classes can be treated as if they were objects of the same class. This allows for more \n",
    "# flexible and reusable code.\n",
    "\n",
    "# Abstraction: This refers to the process of simplifying complex real-world problems by focusing on the essential features and ignoring \n",
    "# irrelevant details. In OOP, abstraction is achieved through the use of abstract classes and interfaces.\n",
    "\n",
    "# Modularity: This refers to the breaking down of a complex system into smaller, more manageable units, called modules. In OOP, modules are \n",
    "# typically implemented as classes."
   ]
  },
  {
   "cell_type": "code",
   "execution_count": 6,
   "id": "51673d37-a590-4c11-a2b6-837b4096eb33",
   "metadata": {},
   "outputs": [],
   "source": [
    "# 2. Write a Python class for a `Car` with attributes for `make`, `model`, and `year`. Include a method to display\n",
    "# the car's information."
   ]
  },
  {
   "cell_type": "code",
   "execution_count": 8,
   "id": "3c8a328f-8d4e-4a32-84c8-ee06a3af7b33",
   "metadata": {},
   "outputs": [],
   "source": [
    "class Car:\n",
    "    def __init__(self, make, model, year):\n",
    "        self.make = make\n",
    "        self.model = model\n",
    "        self.year = year\n",
    "\n",
    "    def display_info(self):\n",
    "        print(f\"Make: {self.make}\")\n",
    "        print(f\"Model: {self.model}\")\n",
    "        print(f\"Year: {self.year}\")"
   ]
  },
  {
   "cell_type": "code",
   "execution_count": 10,
   "id": "1aa3f6db-1c21-4619-86ab-e8f64750b32e",
   "metadata": {},
   "outputs": [
    {
     "name": "stdout",
     "output_type": "stream",
     "text": [
      "Make: Toyota\n",
      "Model: Camry\n",
      "Year: 2023\n"
     ]
    }
   ],
   "source": [
    "my_car = Car(\"Toyota\", \"Camry\", 2023)\n",
    "\n",
    "my_car.display_info()"
   ]
  },
  {
   "cell_type": "code",
   "execution_count": 12,
   "id": "c994f4e1-45d8-470c-97f7-963c8bd7d61c",
   "metadata": {},
   "outputs": [],
   "source": [
    "# 3. Explain the difference between instance methods and class methods. Provide an example of each."
   ]
  },
  {
   "cell_type": "code",
   "execution_count": 16,
   "id": "c4eca4ea-8a0d-4f90-b3a7-506ff782c8b4",
   "metadata": {},
   "outputs": [],
   "source": [
    "# Instance Methods\n",
    "\n",
    "# Belong to individual objects of a class.\n",
    "# Access and manipulate the instance variables of the object.\n",
    "# Use the self keyword to refer to the current object.\n",
    "# Example:\n",
    "\n",
    "class Car:\n",
    "    def __init__(self, make, model):\n",
    "        self.make = make\n",
    "        self.model = model\n",
    "\n",
    "    def honk(self):\n",
    "        print(f\"Honking! {self.make} {self.model}\")"
   ]
  },
  {
   "cell_type": "code",
   "execution_count": 18,
   "id": "0e2df954-8f29-4dfe-9660-8dc18968e153",
   "metadata": {},
   "outputs": [
    {
     "name": "stdout",
     "output_type": "stream",
     "text": [
      "Honking! Toyota Camry\n"
     ]
    }
   ],
   "source": [
    "# In this example, honk is an instance method. It can be called on a specific car object:\n",
    "my_car = Car(\"Toyota\", \"Camry\")\n",
    "my_car.honk()"
   ]
  },
  {
   "cell_type": "code",
   "execution_count": 20,
   "id": "042e4532-7422-4d26-b7d6-030ad0eaca1a",
   "metadata": {},
   "outputs": [],
   "source": [
    "# Class Methods\n",
    "\n",
    "# Belong to the class itself, not to individual objects.\n",
    "# Can't access instance variables directly.\n",
    "# Use the cls keyword to refer to the class itself.\n",
    "# Typically used for utility functions or class-level operations.\n",
    "# Example:\n",
    "class Car:\n",
    "    def __init__(self, make, model):\n",
    "        self.make = make\n",
    "        self.model = model\n",
    "\n",
    "    @classmethod\n",
    "    def create_from_string(cls, car_string):\n",
    "        make, model = car_string.split()\n",
    "        return cls(make, model)"
   ]
  },
  {
   "cell_type": "code",
   "execution_count": 22,
   "id": "7379be9f-e292-409d-9bb5-2766cbe01d03",
   "metadata": {},
   "outputs": [
    {
     "name": "stdout",
     "output_type": "stream",
     "text": [
      "Honda\n"
     ]
    }
   ],
   "source": [
    "# In this example, create_from_string is a class method. It can be called on the class itself:\n",
    "new_car = Car.create_from_string(\"Honda Civic\")\n",
    "print(new_car.make)"
   ]
  },
  {
   "cell_type": "code",
   "execution_count": 24,
   "id": "6387cac2-bc3b-4764-8550-35f0930675fc",
   "metadata": {},
   "outputs": [],
   "source": [
    "# Feature\t                                           Instance Method\t                                          Class Method\n",
    "# Scope\t                                Belongs to individual objects of a class\t                   Belongs to the class itself\n",
    "# Access to instance variables\t        Can access and modify instance variables\t            Cannot access instance variables directly\n",
    "# Usage\t                          Typically used for actions related to specific objects\tOften used for utility functions or class-level operations\n",
    "# Syntax\t                               Defined within the class, uses self keyword\t              Decorated with @classmethod, uses cls keyword\n",
    "# Example\t                                           def honk(self):\t                                @classmethod def create_from_string(cls):"
   ]
  },
  {
   "cell_type": "code",
   "execution_count": 26,
   "id": "58eae69f-15c4-471f-bcf5-21f94844bab0",
   "metadata": {},
   "outputs": [],
   "source": [
    "# 4.  How does Python implement method overloading? Give an example."
   ]
  },
  {
   "cell_type": "code",
   "execution_count": 34,
   "id": "a356f5af-1193-4d3b-bedb-c41cf0495db9",
   "metadata": {},
   "outputs": [],
   "source": [
    "# Python does not explicitly support method overloading. This means that we cannot define multiple methods with the same name within a class, \n",
    "# even if they have different parameter types.\n",
    "\n",
    "# However, Python provides a workaround using default arguments and variable-length arguments. This allows us to simulate method overloading by \n",
    "# defining a single method that can handle different numbers and types of arguments.\n",
    "\n",
    "# Example:\n",
    "class Calculator:\n",
    "    def add(self, a, b, c=0):\n",
    "        return a + b + c"
   ]
  },
  {
   "cell_type": "code",
   "execution_count": 36,
   "id": "78bb2b10-f02b-4c3c-ba6a-6d4acc7b2e9a",
   "metadata": {},
   "outputs": [],
   "source": [
    "# In this example, the add method can be called with either two or three arguments:\n",
    "\n",
    "# If two arguments are provided: The c parameter will default to 0.\n",
    "# If three arguments are provided: The c parameter will use the provided value.\n",
    "# For example:\n",
    "calc = Calculator()"
   ]
  },
  {
   "cell_type": "code",
   "execution_count": 41,
   "id": "64c8ab06-053d-4fa2-bbec-1d0c9c1b1072",
   "metadata": {},
   "outputs": [
    {
     "name": "stdout",
     "output_type": "stream",
     "text": [
      "5\n"
     ]
    }
   ],
   "source": [
    "result1 = calc.add(2, 3)\n",
    "print(result1)"
   ]
  },
  {
   "cell_type": "code",
   "execution_count": 43,
   "id": "87e666e6-02f4-4624-93e2-320dd676152a",
   "metadata": {},
   "outputs": [
    {
     "name": "stdout",
     "output_type": "stream",
     "text": [
      "9\n"
     ]
    }
   ],
   "source": [
    "result2 = calc.add(2, 3, 4)\n",
    "print(result2)"
   ]
  },
  {
   "cell_type": "code",
   "execution_count": 45,
   "id": "be338526-c882-46b6-9b13-53241d4a30fc",
   "metadata": {},
   "outputs": [],
   "source": [
    "# 5.  What are the three types of access modifiers in Python? How are they denoted?"
   ]
  },
  {
   "cell_type": "code",
   "execution_count": 47,
   "id": "c479b2cc-b615-4e15-b63e-5e417960d4e8",
   "metadata": {},
   "outputs": [],
   "source": [
    "# Python supports three types of access modifiers which are public,private and protected. These access modifiers provide restrictions on the \n",
    "# access of member variables and methods of the class from any object outside the class."
   ]
  },
  {
   "cell_type": "code",
   "execution_count": 49,
   "id": "d375d02c-6b7f-4c3a-ba71-42fb400481b0",
   "metadata": {},
   "outputs": [],
   "source": [
    "# Public Access Modifier\n",
    "# By default the member variables and methods are public which means they can be accessed from anywhere outside or inside the class. No public \n",
    "# keyword is required to make the class or methods and properties public.Here is an example of Public access modifier −\n",
    "class Student:\n",
    "   def __init__(self, name, age):\n",
    "      self.name = name\n",
    "      self.age = age\n",
    "    \n",
    "   def display(self):\n",
    "      print(\"Name:\", self.name)\n",
    "      print(\"Age:\", self.age)"
   ]
  },
  {
   "cell_type": "code",
   "execution_count": 51,
   "id": "e21c1aaa-4714-4767-a617-c9ebc901e47b",
   "metadata": {},
   "outputs": [
    {
     "name": "stdout",
     "output_type": "stream",
     "text": [
      "Name: John\n",
      "Age: 20\n"
     ]
    }
   ],
   "source": [
    "s = Student(\"John\", 20)\n",
    "s.display() "
   ]
  },
  {
   "cell_type": "code",
   "execution_count": 53,
   "id": "35761a93-aa9d-464f-a5e4-e0d1601f5435",
   "metadata": {},
   "outputs": [],
   "source": [
    "# Private Access Modifier\n",
    "# Class properties and methods with private access modifier can only be accessed within the class where they are defined and cannot be accessed \n",
    "# outside the class. In Python private properties and methods are declared by adding a prefix with two underscores(‘__’) before their declaration.\n",
    "class BankAccount:\n",
    "   def __init__(self, account_number, balance):\n",
    "      self.__account_number = account_number\n",
    "      self.__balance = balance\n",
    "    \n",
    "   def __display_balance(self):\n",
    "      print(\"Balance:\", self.__balance)"
   ]
  },
  {
   "cell_type": "code",
   "execution_count": 57,
   "id": "f4933f82-18f8-4402-98da-3dfd19d7b1a8",
   "metadata": {},
   "outputs": [
    {
     "ename": "AttributeError",
     "evalue": "'BankAccount' object has no attribute '__display_balance'",
     "output_type": "error",
     "traceback": [
      "\u001b[1;31m---------------------------------------------------------------------------\u001b[0m",
      "\u001b[1;31mAttributeError\u001b[0m                            Traceback (most recent call last)",
      "Cell \u001b[1;32mIn[57], line 2\u001b[0m\n\u001b[0;32m      1\u001b[0m b \u001b[38;5;241m=\u001b[39m BankAccount(\u001b[38;5;241m1234567890\u001b[39m, \u001b[38;5;241m5000\u001b[39m)\n\u001b[1;32m----> 2\u001b[0m b\u001b[38;5;241m.\u001b[39m__display_balance()\n",
      "\u001b[1;31mAttributeError\u001b[0m: 'BankAccount' object has no attribute '__display_balance'"
     ]
    }
   ],
   "source": [
    "b = BankAccount(1234567890, 5000)\n",
    "b.__display_balance() \n",
    "# The Class BankAccount is being declared with two private variables i.e account_number and balance and a private property display_balance which \n",
    "# prints the balance of the bank account. As both the properties and method are private so while accessing them from outside the class it raises \n",
    "# Attribute error."
   ]
  },
  {
   "cell_type": "code",
   "execution_count": 59,
   "id": "98c4a7da-a29d-4a58-bc17-fb83edfc7b7d",
   "metadata": {},
   "outputs": [],
   "source": [
    "# Protected Access Modifier\n",
    "# Class properties and methods with protected access modifier can be accessed within the class and from the class that inherits the protected \n",
    "# class. In python, protected members and methods are declared using single underscore(‘_’) as prefix before their names.\n",
    "class Person:\n",
    "   def __init__(self, name, age):\n",
    "      self._name = name\n",
    "      self._age = age\n",
    "    \n",
    "   def _display(self):\n",
    "      print(\"Name:\", self._name)\n",
    "      print(\"Age:\", self._age)\n",
    "\n",
    "class Student(Person):\n",
    "   def __init__(self, name, age, roll_number):\n",
    "      super().__init__(name, age)\n",
    "      self._roll_number = roll_number\n",
    "    \n",
    "   def display(self):\n",
    "      self._display()\n",
    "      print(\"Roll Number:\", self._roll_number)"
   ]
  },
  {
   "cell_type": "code",
   "execution_count": 65,
   "id": "702a1175-f586-4b42-93df-4bf16780146b",
   "metadata": {},
   "outputs": [
    {
     "name": "stdout",
     "output_type": "stream",
     "text": [
      "Name: John\n",
      "Age: 20\n",
      "Roll Number: 123\n"
     ]
    }
   ],
   "source": [
    "s = Student(\"John\", 20, 123)\n",
    "s.display() \n",
    "\n",
    "# The Person class has two protected properties i.e _name and _age and a protected method _display that displays the values of the properties of \n",
    "# the person class. The student class is inherited from Person class with an additional property i.e _roll_number which is also protected and a \n",
    "# public method display that class the _display method of the parent class i.e Person class by creating an instance of the Student class we can \n",
    "# call the display method from outside the class as the display method is private which calls the protected _display method of Person class."
   ]
  },
  {
   "cell_type": "code",
   "execution_count": 67,
   "id": "74fa513a-e8cb-4264-bf08-9b4f70697e9f",
   "metadata": {},
   "outputs": [],
   "source": [
    "# 6.  Describe the five types of inheritance in Python. Provide a simple example of multiple inheritance."
   ]
  },
  {
   "cell_type": "code",
   "execution_count": 69,
   "id": "21674bed-e15d-4392-8f37-e49d6eadc904",
   "metadata": {},
   "outputs": [],
   "source": [
    "# There are five main types of inheritance in Python:\n",
    "\n",
    "# Single Inheritance: A class inherits from only one parent class. This is the most common type of inheritance.\n",
    "\n",
    "# Multiple Inheritance: A class inherits from more than one parent class. This allows a class to inherit attributes and methods from multiple \n",
    "# sources.\n",
    "\n",
    "# Multilevel Inheritance: A class inherits from a class that itself inherits from another class. This creates a hierarchical relationship between \n",
    "# the classes.\n",
    "\n",
    "# Hierarchical Inheritance: Multiple classes inherit from a single parent class. This creates a tree-like structure where multiple subclasses \n",
    "# share a common parent.\n",
    "\n",
    "# Hybrid Inheritance: A combination of multiple inheritance, multilevel inheritance, and hierarchical inheritance. This allows for complex \n",
    "# inheritance relationships."
   ]
  },
  {
   "cell_type": "code",
   "execution_count": 71,
   "id": "f4a16c31-d7e6-45dd-8339-478319df8c29",
   "metadata": {},
   "outputs": [],
   "source": [
    "# Example of Multiple Inheritance:\n",
    "class Animal:\n",
    "    def eat(self):\n",
    "        print(\"Eating...\")\n",
    "\n",
    "class Bird:\n",
    "    def fly(self):\n",
    "        print(\"Flying...\")\n",
    "\n",
    "class Bat(Animal, Bird):\n",
    "    def talk(self):\n",
    "        print(\"Talking...\")"
   ]
  },
  {
   "cell_type": "code",
   "execution_count": 75,
   "id": "c50238b4-6257-408a-9b39-421e065e7c05",
   "metadata": {},
   "outputs": [
    {
     "name": "stdout",
     "output_type": "stream",
     "text": [
      "Eating...\n",
      "Flying...\n",
      "Talking...\n"
     ]
    }
   ],
   "source": [
    "# In this example, the Bat class inherits from both the Animal and Bird classes. This allows the Bat object to call methods from both parent \n",
    "# classes.\n",
    "bat = Bat()\n",
    "bat.eat()\n",
    "bat.fly()\n",
    "bat.talk()"
   ]
  },
  {
   "cell_type": "code",
   "execution_count": 77,
   "id": "032f23f6-e993-4da7-82c6-e372b32f5ac6",
   "metadata": {},
   "outputs": [],
   "source": [
    "# 7. What is the Method Resolution Order (MRO) in Python? How can you retrieve it programmatically?"
   ]
  },
  {
   "cell_type": "code",
   "execution_count": 81,
   "id": "e6542fa4-2838-4a25-83c3-d728ffc8a703",
   "metadata": {},
   "outputs": [],
   "source": [
    "# Method Resolution Order (MRO) in Python determines the order in which methods are searched for when an attribute or method is accessed on an \n",
    "# object. It's particularly important in multiple inheritance scenarios to ensure that methods are called from the correct class.\n",
    "\n",
    "# The MRO is determined by the C3 linearization algorithm, which guarantees that:\n",
    "\n",
    "# Parent classes are searched before their subclasses.\n",
    "# A class appears only once in its own MRO.\n",
    "# If a class inherits from multiple parent classes, the MRO is determined by the left-to-right order of the parent classes in the class definition."
   ]
  },
  {
   "cell_type": "code",
   "execution_count": 83,
   "id": "6abaaa38-1b70-4c00-a506-81ccceec86da",
   "metadata": {},
   "outputs": [
    {
     "name": "stdout",
     "output_type": "stream",
     "text": [
      "(<class '__main__.D'>, <class '__main__.B'>, <class '__main__.C'>, <class '__main__.A'>, <class 'object'>)\n"
     ]
    }
   ],
   "source": [
    "# Retrieving the MRO Programmatically:\n",
    "# You can use the __mro__ attribute of a class to get its MRO as a tuple. Here's an example:\n",
    "class A:\n",
    "    pass\n",
    "\n",
    "class B(A):\n",
    "    pass\n",
    "\n",
    "class C(A):\n",
    "    pass\n",
    "\n",
    "class D(B, C):\n",
    "    pass\n",
    "\n",
    "print(D.__mro__)"
   ]
  },
  {
   "cell_type": "code",
   "execution_count": 85,
   "id": "4a39954e-d254-4b6f-b94c-49619952c34e",
   "metadata": {},
   "outputs": [],
   "source": [
    "# 8.  Create an abstract base class `Shape` with an abstract method `area()`. Then create two subclasses\n",
    "# `Circle` and `Rectangle` that implement the `area()` method."
   ]
  },
  {
   "cell_type": "code",
   "execution_count": 87,
   "id": "008d1df5-4fb0-4747-b7b2-521249dd6bbb",
   "metadata": {},
   "outputs": [],
   "source": [
    "from abc import ABC, abstractmethod\n",
    "\n",
    "class Shape(ABC):\n",
    "    @abstractmethod\n",
    "    def area(self):\n",
    "        pass\n",
    "\n",
    "class Circle(Shape):\n",
    "    def __init__(self, radius):\n",
    "        self.radius = radius\n",
    "\n",
    "    def area(self):\n",
    "        return 3.14159 * self.radius**2\n",
    "\n",
    "class Rectangle(Shape):\n",
    "    def __init__(self, length, width):\n",
    "        self.length = length\n",
    "        self.width = width\n",
    "\n",
    "    def area(self):\n",
    "        return self.length * self.width"
   ]
  },
  {
   "cell_type": "code",
   "execution_count": 89,
   "id": "c9f5697f-62d4-4b07-9a67-7ccd4b4d548f",
   "metadata": {},
   "outputs": [
    {
     "name": "stdout",
     "output_type": "stream",
     "text": [
      "78.53975\n",
      "12\n"
     ]
    }
   ],
   "source": [
    "circle = Circle(5)\n",
    "rectangle = Rectangle(4, 3)\n",
    "\n",
    "print(circle.area())\n",
    "print(rectangle.area())"
   ]
  },
  {
   "cell_type": "code",
   "execution_count": 109,
   "id": "f38e2461-2c8f-47c4-a43c-648ed3fcb264",
   "metadata": {},
   "outputs": [],
   "source": [
    "# 9.  Demonstrate polymorphism by creating a function that can work with different shape objects to calculate\n",
    "# and print their areas."
   ]
  },
  {
   "cell_type": "code",
   "execution_count": 93,
   "id": "4973bd3b-a02a-4cd1-94ce-995c13126afa",
   "metadata": {},
   "outputs": [],
   "source": [
    "def calculate_area(shape):\n",
    "    print(shape.area())"
   ]
  },
  {
   "cell_type": "code",
   "execution_count": 97,
   "id": "f0e88eb8-f65e-454d-94d9-f5fb3d78ad2f",
   "metadata": {},
   "outputs": [],
   "source": [
    "# Create instances of Circle and Rectangle\n",
    "circle = Circle(5)\n",
    "rectangle = Rectangle(4, 3)"
   ]
  },
  {
   "cell_type": "code",
   "execution_count": 99,
   "id": "c3ac778c-174a-46f0-99bb-cb82952dfd79",
   "metadata": {},
   "outputs": [
    {
     "name": "stdout",
     "output_type": "stream",
     "text": [
      "78.53975\n",
      "12\n"
     ]
    }
   ],
   "source": [
    "# Call the calculate_area function with different shape objects\n",
    "calculate_area(circle)\n",
    "calculate_area(rectangle)"
   ]
  },
  {
   "cell_type": "code",
   "execution_count": 111,
   "id": "046132a6-4168-4027-9573-3853497e52dd",
   "metadata": {},
   "outputs": [],
   "source": [
    "# 10.  Implement encapsulation in a `BankAccount` class with private attributes for `balance` and\n",
    "# `account_number`. Include methods for deposit, withdrawal, and balance inquiry"
   ]
  },
  {
   "cell_type": "code",
   "execution_count": 103,
   "id": "e684bd02-aba2-4435-b8fe-8ffff392d9c9",
   "metadata": {},
   "outputs": [],
   "source": [
    "class BankAccount:\n",
    "    def __init__(self, account_number, initial_balance):\n",
    "        self.__account_number = account_number\n",
    "        self.__balance = initial_balance\n",
    "\n",
    "    def deposit(self, amount):\n",
    "        if amount > 0:\n",
    "            self.__balance += amount\n",
    "            print(f\"Deposited {amount}. New balance: {self.__balance}\")\n",
    "        else:\n",
    "            print(\"Invalid deposit amount.\")\n",
    "\n",
    "    def withdraw(self, amount):\n",
    "        if amount > 0 and amount <= self.__balance:\n",
    "            self.__balance -= amount\n",
    "            print(f\"Withdrew {amount}. New balance: {self.__balance}\")\n",
    "        else:\n",
    "            print(\"Invalid withdrawal amount or insufficient funds.\")\n",
    "\n",
    "    def get_balance(self):\n",
    "        return self.__balance"
   ]
  },
  {
   "cell_type": "code",
   "execution_count": 107,
   "id": "ab90a5fe-7e09-4b21-abec-e0aebe0fdca9",
   "metadata": {},
   "outputs": [
    {
     "name": "stdout",
     "output_type": "stream",
     "text": [
      "Deposited 500. New balance: 1500\n",
      "Withdrew 200. New balance: 1300\n",
      "1300\n"
     ]
    }
   ],
   "source": [
    "account = BankAccount(\"1234567890\", 1000)\n",
    "account.deposit(500)\n",
    "account.withdraw(200)\n",
    "print(account.get_balance())"
   ]
  },
  {
   "cell_type": "code",
   "execution_count": 113,
   "id": "2c59ca50-4982-4003-9528-1b5b84b805a1",
   "metadata": {},
   "outputs": [],
   "source": [
    "# 11. Write a class that overrides the `__str__` and `__add__` magic methods. What will these methods allow\n",
    "# you to do?"
   ]
  },
  {
   "cell_type": "code",
   "execution_count": 115,
   "id": "44da82bd-8b8d-4207-9e02-752214bcdb5f",
   "metadata": {},
   "outputs": [],
   "source": [
    "class MyClass:\n",
    "    def __init__(self, value):\n",
    "        self.value = value\n",
    "\n",
    "    def __str__(self):\n",
    "        return f\"MyClass object with value: {self.value}\"\n",
    "\n",
    "    def __add__(self, other):\n",
    "        return MyClass(self.value + other.value)"
   ]
  },
  {
   "cell_type": "code",
   "execution_count": 117,
   "id": "c8ce2517-ddca-4817-ab1a-497d2134402c",
   "metadata": {},
   "outputs": [
    {
     "name": "stdout",
     "output_type": "stream",
     "text": [
      "MyClass object with value: 10\n",
      "MyClass object with value: 20\n"
     ]
    }
   ],
   "source": [
    "obj1 = MyClass(10)\n",
    "obj2 = MyClass(20)\n",
    "print(obj1)\n",
    "print(obj2)"
   ]
  },
  {
   "cell_type": "code",
   "execution_count": 119,
   "id": "8fe3af99-01de-4b40-9836-4ce28fda0625",
   "metadata": {},
   "outputs": [
    {
     "name": "stdout",
     "output_type": "stream",
     "text": [
      "MyClass object with value: 30\n"
     ]
    }
   ],
   "source": [
    "result = obj1 + obj2\n",
    "print(result)"
   ]
  },
  {
   "cell_type": "code",
   "execution_count": 123,
   "id": "b38516d6-312e-456a-acbb-1e0b254173d9",
   "metadata": {},
   "outputs": [],
   "source": [
    "# Explanation:\n",
    "\n",
    "# The __str__ method is called when you try to print an object or convert it to a string. In this case, it returns a string representation of the \n",
    "# MyClass object, including its value.\n",
    "\n",
    "# The __add__ method is called when you use the + operator on two MyClass objects. It defines how addition should be performed for these objects. \n",
    "# In this case, it creates a new MyClass object with the sum of the values of the two operands.\n",
    "\n",
    "# By overriding these magic methods, you can customize how objects of your class are represented as strings and how they behave when certain \n",
    "# operations (like addition) are performed on them. This allows you to create more intuitive and user-friendly classes."
   ]
  },
  {
   "cell_type": "code",
   "execution_count": 125,
   "id": "950be044-2c44-44e5-8762-db86531b8690",
   "metadata": {},
   "outputs": [],
   "source": [
    "# 12. Create a decorator that measures and prints the execution time of a function."
   ]
  },
  {
   "cell_type": "code",
   "execution_count": 127,
   "id": "0f25460b-0df3-4d24-8eaa-9546e74f26fd",
   "metadata": {},
   "outputs": [],
   "source": [
    "import time\n",
    "\n",
    "def measure_time(func):\n",
    "    def wrapper(*args, **kwargs):\n",
    "        start_time = time.time()\n",
    "        result = func(*args, **kwargs)\n",
    "        end_time = time.time()\n",
    "        execution_time = end_time - start_time\n",
    "        print(f\"Function {func.__name__} executed in {execution_time:.5f} seconds\")\n",
    "        return result\n",
    "    return wrapper"
   ]
  },
  {
   "cell_type": "code",
   "execution_count": 129,
   "id": "697ae2d4-10df-4995-bb6f-5cbf00504033",
   "metadata": {},
   "outputs": [
    {
     "name": "stdout",
     "output_type": "stream",
     "text": [
      "Function my_function executed in 0.07705 seconds\n",
      "499999500000\n"
     ]
    }
   ],
   "source": [
    "@measure_time\n",
    "def my_function(n):\n",
    "    sum = 0\n",
    "    for i in range(n):\n",
    "        sum += i\n",
    "    return sum\n",
    "\n",
    "result = my_function(1000000)\n",
    "print(result)"
   ]
  },
  {
   "cell_type": "code",
   "execution_count": 131,
   "id": "7b860a22-7c0b-4d87-a36c-ab04bf9e3473",
   "metadata": {},
   "outputs": [],
   "source": [
    "# Explanation:\n",
    "\n",
    "# Define the decorator function: The measure_time function takes another function as input and returns a wrapper function.\n",
    "\n",
    "# Wrapper function: The wrapper function is responsible for measuring the execution time. It records the start time, calls the original function, \n",
    "# records the end time, calculates the execution time, prints the result, and returns the result of the original function.\n",
    "\n",
    "# Apply the decorator: The @measure_time decorator is applied to the my_function to measure its execution time.\n",
    "\n",
    "# Call the function: When the my_function is called, the wrapper function is executed, which measures the time and prints the result.\n",
    "\n",
    "# This decorator can be applied to any function to measure its execution time, providing valuable insights into performance."
   ]
  },
  {
   "cell_type": "code",
   "execution_count": 133,
   "id": "505d9d7c-fc87-4ed1-9cdb-bd6625b859dd",
   "metadata": {},
   "outputs": [],
   "source": [
    "# 13.  Explain the concept of the Diamond Problem in multiple inheritance. How does Python resolve it?"
   ]
  },
  {
   "cell_type": "code",
   "execution_count": 135,
   "id": "7c4719ba-3fdc-4866-966f-fecf57d6fde8",
   "metadata": {},
   "outputs": [],
   "source": [
    "# The Diamond Problem occurs in multiple inheritance when a class inherits from two classes that have a common ancestor. This creates a \n",
    "# diamond-shaped hierarchy where the class inherits the same attribute or method from both parent classes, leading to ambiguity about which \n",
    "# version to use\n",
    "\n",
    "# Here's a simplified example:\n",
    "class A:\n",
    "    def method(self):\n",
    "        print(\"A.method\")\n",
    "\n",
    "class B(A):\n",
    "    pass\n",
    "\n",
    "class C(A):\n",
    "    def method(self):\n",
    "        print(\"C.method\")\n",
    "\n",
    "class D(B, C):\n",
    "    pass"
   ]
  },
  {
   "cell_type": "code",
   "execution_count": 137,
   "id": "4039a438-f489-4b99-8dd2-aa4718ac2241",
   "metadata": {},
   "outputs": [
    {
     "name": "stdout",
     "output_type": "stream",
     "text": [
      "C.method\n"
     ]
    }
   ],
   "source": [
    "d = D()\n",
    "d.method()"
   ]
  },
  {
   "cell_type": "code",
   "execution_count": 143,
   "id": "56063285-c81a-48c5-b083-695414474bd3",
   "metadata": {},
   "outputs": [],
   "source": [
    "# In this example, D inherits from both B and C, which both inherit from A. Since A defines the method method, D inherits two versions of the \n",
    "# method. The Diamond Problem arises when trying to determine which version of method should be called when an instance of D is created and the \n",
    "# method is invoked.\n",
    "\n",
    "# Python resolves the Diamond Problem using the C3 linearization algorithm. This algorithm determines the Method Resolution Order (MRO) for a \n",
    "# class, which specifies the order in which methods are searched for when an attribute or method is accessed. The C3 algorithm ensures that:\n",
    "\n",
    "# a) Parent classes are searched before their subclasses.\n",
    "# b) A class appears only once in its own MRO.\n",
    "# c) If a class inherits from multiple parent classes, the MRO is determined by the left-to-right order of the parent classes in the class \n",
    "# definition.\n",
    "\n",
    "\n",
    "# In the above example, the MRO for D would be:\n",
    "# (D, B, C, A, object)\n",
    "\n",
    "# According to this MRO, B appears before C, so the method defined in B (which is inherited from A) will be called. This ensures that the closest \n",
    "# version of the method to D in the inheritance hierarchy is used, resolving the Diamond Problem."
   ]
  },
  {
   "cell_type": "code",
   "execution_count": 145,
   "id": "fbf7b324-ced1-46e0-8df8-57e7b6d806b2",
   "metadata": {},
   "outputs": [],
   "source": [
    "# 14.  Write a class method that keeps track of the number of instances created from a class."
   ]
  },
  {
   "cell_type": "code",
   "execution_count": 147,
   "id": "cf004738-3360-4a6e-8dda-d7dba96e4a3e",
   "metadata": {},
   "outputs": [],
   "source": [
    "class MyClass:\n",
    "    count = 0\n",
    "\n",
    "    def __init__(self):\n",
    "        MyClass.count += 1\n",
    "\n",
    "    @classmethod\n",
    "    def get_instance_count(cls):\n",
    "        return cls.count"
   ]
  },
  {
   "cell_type": "code",
   "execution_count": 149,
   "id": "028debdf-e5d9-4d85-886c-45b6f3a61781",
   "metadata": {},
   "outputs": [
    {
     "name": "stdout",
     "output_type": "stream",
     "text": [
      "3\n"
     ]
    }
   ],
   "source": [
    "obj1 = MyClass()\n",
    "obj2 = MyClass()\n",
    "obj3 = MyClass()\n",
    "\n",
    "print(MyClass.get_instance_count())"
   ]
  },
  {
   "cell_type": "code",
   "execution_count": 151,
   "id": "87da3f8f-496b-4b80-9de5-6edb96b6f42d",
   "metadata": {},
   "outputs": [],
   "source": [
    "# Explanation:\n",
    "\n",
    "# Class attribute count: The count attribute is defined at the class level, meaning it's shared by all instances of the class. It's initialized \n",
    "# to 0.\n",
    "\n",
    "# __init__ method: The constructor increments the count attribute whenever a new instance is created.\n",
    "\n",
    "# get_instance_count class method: This class method returns the current value of the count attribute."
   ]
  },
  {
   "cell_type": "code",
   "execution_count": 153,
   "id": "ab158281-58c4-4a73-90a4-d5cd25a970c6",
   "metadata": {},
   "outputs": [],
   "source": [
    "# 15.  Implement a static method in a class that checks if a given year is a leap year."
   ]
  },
  {
   "cell_type": "code",
   "execution_count": 155,
   "id": "3d640fdf-937a-467e-81f5-c224c61b010c",
   "metadata": {},
   "outputs": [
    {
     "name": "stdout",
     "output_type": "stream",
     "text": [
      "2024 is a leap year\n"
     ]
    }
   ],
   "source": [
    "class Year:\n",
    "    @staticmethod\n",
    "    def is_leap_year(year):\n",
    "        return (year % 4 == 0) and (year % 100 != 0 or year % 400 == 0)\n",
    "\n",
    "year = 2024\n",
    "if Year.is_leap_year(year):\n",
    "    print(year, \"is a leap year\")\n",
    "else:\n",
    "    print(year, \"is not a leap year\")"
   ]
  },
  {
   "cell_type": "code",
   "execution_count": null,
   "id": "a678160a-a9a8-4875-90c7-01c4a67eaade",
   "metadata": {},
   "outputs": [],
   "source": []
  }
 ],
 "metadata": {
  "kernelspec": {
   "display_name": "Python 3 (ipykernel)",
   "language": "python",
   "name": "python3"
  },
  "language_info": {
   "codemirror_mode": {
    "name": "ipython",
    "version": 3
   },
   "file_extension": ".py",
   "mimetype": "text/x-python",
   "name": "python",
   "nbconvert_exporter": "python",
   "pygments_lexer": "ipython3",
   "version": "3.12.4"
  }
 },
 "nbformat": 4,
 "nbformat_minor": 5
}
